{
 "cells": [
  {
   "cell_type": "code",
   "execution_count": 142,
   "id": "8b74f69e-355d-43b4-9ba8-c5ebce6dd3bb",
   "metadata": {},
   "outputs": [],
   "source": [
    "import pandas as pd\n",
    "import numpy as np\n",
    "import seaborn as sns\n",
    "import matplotlib.pyplot as plt\n",
    "from sklearn.linear_model import LinearRegression\n",
    "from sklearn.model_selection import train_test_split\n",
    "#Visualizing the relationship between two numerical variables with a scatterplot is easy using sns.relplot()."
   ]
  },
  {
   "cell_type": "code",
   "execution_count": 143,
   "id": "50986601-490a-406e-a0ad-8aa83752b0ee",
   "metadata": {},
   "outputs": [],
   "source": [
    "data = pd.read_csv('SOCR-HeightWeight.csv') # reading csv from kaggle\n",
    "data= data.head(500)"
   ]
  },
  {
   "cell_type": "code",
   "execution_count": 144,
   "id": "005de805-5496-48f9-aa86-8953ced2c018",
   "metadata": {},
   "outputs": [
    {
     "data": {
      "text/plain": [
       "Index             0\n",
       "Height(Inches)    0\n",
       "Weight(Pounds)    0\n",
       "dtype: int64"
      ]
     },
     "execution_count": 144,
     "metadata": {},
     "output_type": "execute_result"
    }
   ],
   "source": [
    "data.isnull().sum() # cheacking for Nan values in dataset"
   ]
  },
  {
   "cell_type": "code",
   "execution_count": 145,
   "id": "3da4ec85-134c-4bf6-9a1f-7da0a85a25ca",
   "metadata": {},
   "outputs": [],
   "source": [
    "# setting first name as index column\n",
    "data.set_index(\"Index\", inplace = True)"
   ]
  },
  {
   "cell_type": "code",
   "execution_count": 146,
   "id": "7b237fa9-b5ab-440e-b18d-6d3e8965d62b",
   "metadata": {},
   "outputs": [
    {
     "data": {
      "text/html": [
       "<div>\n",
       "<style scoped>\n",
       "    .dataframe tbody tr th:only-of-type {\n",
       "        vertical-align: middle;\n",
       "    }\n",
       "\n",
       "    .dataframe tbody tr th {\n",
       "        vertical-align: top;\n",
       "    }\n",
       "\n",
       "    .dataframe thead th {\n",
       "        text-align: right;\n",
       "    }\n",
       "</style>\n",
       "<table border=\"1\" class=\"dataframe\">\n",
       "  <thead>\n",
       "    <tr style=\"text-align: right;\">\n",
       "      <th></th>\n",
       "      <th>Height(Inches)</th>\n",
       "      <th>Weight(Pounds)</th>\n",
       "    </tr>\n",
       "  </thead>\n",
       "  <tbody>\n",
       "    <tr>\n",
       "      <th>count</th>\n",
       "      <td>500.000000</td>\n",
       "      <td>500.000000</td>\n",
       "    </tr>\n",
       "    <tr>\n",
       "      <th>mean</th>\n",
       "      <td>68.011371</td>\n",
       "      <td>127.216975</td>\n",
       "    </tr>\n",
       "    <tr>\n",
       "      <th>std</th>\n",
       "      <td>1.904719</td>\n",
       "      <td>11.900698</td>\n",
       "    </tr>\n",
       "    <tr>\n",
       "      <th>min</th>\n",
       "      <td>62.016660</td>\n",
       "      <td>84.359800</td>\n",
       "    </tr>\n",
       "    <tr>\n",
       "      <th>25%</th>\n",
       "      <td>66.699150</td>\n",
       "      <td>119.485000</td>\n",
       "    </tr>\n",
       "    <tr>\n",
       "      <th>50%</th>\n",
       "      <td>68.022415</td>\n",
       "      <td>127.373800</td>\n",
       "    </tr>\n",
       "    <tr>\n",
       "      <th>75%</th>\n",
       "      <td>69.259142</td>\n",
       "      <td>135.005275</td>\n",
       "    </tr>\n",
       "    <tr>\n",
       "      <th>max</th>\n",
       "      <td>73.901070</td>\n",
       "      <td>168.229000</td>\n",
       "    </tr>\n",
       "  </tbody>\n",
       "</table>\n",
       "</div>"
      ],
      "text/plain": [
       "       Height(Inches)  Weight(Pounds)\n",
       "count      500.000000      500.000000\n",
       "mean        68.011371      127.216975\n",
       "std          1.904719       11.900698\n",
       "min         62.016660       84.359800\n",
       "25%         66.699150      119.485000\n",
       "50%         68.022415      127.373800\n",
       "75%         69.259142      135.005275\n",
       "max         73.901070      168.229000"
      ]
     },
     "execution_count": 146,
     "metadata": {},
     "output_type": "execute_result"
    }
   ],
   "source": [
    "data.describe()"
   ]
  },
  {
   "cell_type": "code",
   "execution_count": 147,
   "id": "4a9ed1bd-135b-46ae-bd94-2ae5596dc38a",
   "metadata": {
    "tags": []
   },
   "outputs": [],
   "source": [
    "#height = data[\"Height(Inches)\"].values\n",
    "#weight= data[\"Weight(Pounds)\"].values\n",
    "#plt.scatter(weight, height)"
   ]
  },
  {
   "cell_type": "code",
   "execution_count": 148,
   "id": "a8f9c9c7-f452-4cb2-8548-b3a2444a559f",
   "metadata": {},
   "outputs": [
    {
     "data": {
      "text/html": [
       "<div>\n",
       "<style scoped>\n",
       "    .dataframe tbody tr th:only-of-type {\n",
       "        vertical-align: middle;\n",
       "    }\n",
       "\n",
       "    .dataframe tbody tr th {\n",
       "        vertical-align: top;\n",
       "    }\n",
       "\n",
       "    .dataframe thead th {\n",
       "        text-align: right;\n",
       "    }\n",
       "</style>\n",
       "<table border=\"1\" class=\"dataframe\">\n",
       "  <thead>\n",
       "    <tr style=\"text-align: right;\">\n",
       "      <th></th>\n",
       "      <th>Height(Inches)</th>\n",
       "      <th>Weight(Pounds)</th>\n",
       "      <th>Height(cm)</th>\n",
       "      <th>Weight(kg)</th>\n",
       "    </tr>\n",
       "    <tr>\n",
       "      <th>Index</th>\n",
       "      <th></th>\n",
       "      <th></th>\n",
       "      <th></th>\n",
       "      <th></th>\n",
       "    </tr>\n",
       "  </thead>\n",
       "  <tbody>\n",
       "    <tr>\n",
       "      <th>1</th>\n",
       "      <td>65.78331</td>\n",
       "      <td>112.9925</td>\n",
       "      <td>167.089607</td>\n",
       "      <td>51.252536</td>\n",
       "    </tr>\n",
       "    <tr>\n",
       "      <th>2</th>\n",
       "      <td>71.51521</td>\n",
       "      <td>136.4873</td>\n",
       "      <td>181.648633</td>\n",
       "      <td>61.909598</td>\n",
       "    </tr>\n",
       "    <tr>\n",
       "      <th>3</th>\n",
       "      <td>69.39874</td>\n",
       "      <td>153.0269</td>\n",
       "      <td>176.272800</td>\n",
       "      <td>69.411834</td>\n",
       "    </tr>\n",
       "    <tr>\n",
       "      <th>4</th>\n",
       "      <td>68.21660</td>\n",
       "      <td>142.3354</td>\n",
       "      <td>173.270164</td>\n",
       "      <td>64.562251</td>\n",
       "    </tr>\n",
       "    <tr>\n",
       "      <th>5</th>\n",
       "      <td>67.78781</td>\n",
       "      <td>144.2971</td>\n",
       "      <td>172.181037</td>\n",
       "      <td>65.452064</td>\n",
       "    </tr>\n",
       "    <tr>\n",
       "      <th>...</th>\n",
       "      <td>...</td>\n",
       "      <td>...</td>\n",
       "      <td>...</td>\n",
       "      <td>...</td>\n",
       "    </tr>\n",
       "    <tr>\n",
       "      <th>496</th>\n",
       "      <td>66.82802</td>\n",
       "      <td>142.1577</td>\n",
       "      <td>169.743171</td>\n",
       "      <td>64.481648</td>\n",
       "    </tr>\n",
       "    <tr>\n",
       "      <th>497</th>\n",
       "      <td>69.09424</td>\n",
       "      <td>127.1436</td>\n",
       "      <td>175.499370</td>\n",
       "      <td>57.671367</td>\n",
       "    </tr>\n",
       "    <tr>\n",
       "      <th>498</th>\n",
       "      <td>66.81425</td>\n",
       "      <td>122.3353</td>\n",
       "      <td>169.708195</td>\n",
       "      <td>55.490359</td>\n",
       "    </tr>\n",
       "    <tr>\n",
       "      <th>499</th>\n",
       "      <td>67.13183</td>\n",
       "      <td>112.6659</td>\n",
       "      <td>170.514848</td>\n",
       "      <td>51.104393</td>\n",
       "    </tr>\n",
       "    <tr>\n",
       "      <th>500</th>\n",
       "      <td>64.57428</td>\n",
       "      <td>134.2647</td>\n",
       "      <td>164.018671</td>\n",
       "      <td>60.901443</td>\n",
       "    </tr>\n",
       "  </tbody>\n",
       "</table>\n",
       "<p>500 rows × 4 columns</p>\n",
       "</div>"
      ],
      "text/plain": [
       "       Height(Inches)  Weight(Pounds)  Height(cm)  Weight(kg)\n",
       "Index                                                        \n",
       "1            65.78331        112.9925  167.089607   51.252536\n",
       "2            71.51521        136.4873  181.648633   61.909598\n",
       "3            69.39874        153.0269  176.272800   69.411834\n",
       "4            68.21660        142.3354  173.270164   64.562251\n",
       "5            67.78781        144.2971  172.181037   65.452064\n",
       "...               ...             ...         ...         ...\n",
       "496          66.82802        142.1577  169.743171   64.481648\n",
       "497          69.09424        127.1436  175.499370   57.671367\n",
       "498          66.81425        122.3353  169.708195   55.490359\n",
       "499          67.13183        112.6659  170.514848   51.104393\n",
       "500          64.57428        134.2647  164.018671   60.901443\n",
       "\n",
       "[500 rows x 4 columns]"
      ]
     },
     "execution_count": 148,
     "metadata": {},
     "output_type": "execute_result"
    }
   ],
   "source": [
    "#convert height into cm and weight into kg\n",
    "data[\"Height(cm)\"] = data[\"Height(Inches)\"] * 2.54\n",
    "data[\"Weight(kg)\"] = data[\"Weight(Pounds)\"] * 0.45359237\n",
    "data"
   ]
  },
  {
   "cell_type": "code",
   "execution_count": 149,
   "id": "fbf399e9-0bbf-42d2-83d2-10ba5752e0a5",
   "metadata": {},
   "outputs": [],
   "source": [
    "data = data.drop([\"Height(Inches)\", \"Weight(Pounds)\"], axis = 1)"
   ]
  },
  {
   "cell_type": "code",
   "execution_count": 150,
   "id": "87ac158d-efca-4e12-8449-b65cdad9ac60",
   "metadata": {},
   "outputs": [
    {
     "name": "stdout",
     "output_type": "stream",
     "text": [
      "<class 'pandas.core.frame.DataFrame'>\n",
      "Int64Index: 500 entries, 1 to 500\n",
      "Data columns (total 2 columns):\n",
      " #   Column      Non-Null Count  Dtype  \n",
      "---  ------      --------------  -----  \n",
      " 0   Height(cm)  500 non-null    float64\n",
      " 1   Weight(kg)  500 non-null    float64\n",
      "dtypes: float64(2)\n",
      "memory usage: 11.7 KB\n"
     ]
    }
   ],
   "source": [
    "data.info()"
   ]
  },
  {
   "cell_type": "code",
   "execution_count": 151,
   "id": "35e1a1dd-4723-437e-9dd3-3498bba3b763",
   "metadata": {},
   "outputs": [],
   "source": [
    "#spliting data and to get a Numpy representation of the DataFrame(.value) lr always works on array\n",
    "Height = data[\"Height(cm)\"].values\n",
    "Weight = data[\"Weight(kg)\"].values"
   ]
  },
  {
   "cell_type": "code",
   "execution_count": 152,
   "id": "61d3df5c-0b5b-4357-a6e3-143542861110",
   "metadata": {},
   "outputs": [],
   "source": [
    "#reshape otherwise you will get error as \"raise ValueError(\"x and y must be the same size\")\n",
    "new_weight = weight.reshape(-1,1)"
   ]
  },
  {
   "cell_type": "code",
   "execution_count": 155,
   "id": "2fc9e48f-df2b-4790-85f3-939daa4ddcfa",
   "metadata": {},
   "outputs": [
    {
     "name": "stdout",
     "output_type": "stream",
     "text": [
      "Train accuracy 23.49 %\n",
      "Test accuracy 26.42 %\n"
     ]
    }
   ],
   "source": [
    "x_train, x_test, y_train, y_test = train_test_split(new_weight, Height, train_size=.8 )\n",
    "lm = LinearRegression() #creating LinearRegression model\n",
    "lm.fit(x_train, y_train) #train the model using training data \n",
    "y_predict = lm.predict(x_test) # get the regression line"
   ]
  },
  {
   "cell_type": "code",
   "execution_count": null,
   "id": "4c2cd2ab-a16b-4817-8482-e4ec204416e0",
   "metadata": {},
   "outputs": [],
   "source": [
    "print(f\"Train accuracy {round(lm.score(x_train,y_train)*100,2)} %\") # accuracy score for traning data\n",
    "print(f\"Test accuracy {round(lm.score(x_test,y_test)*100,2)} %\")    # accuracy for testing data"
   ]
  },
  {
   "cell_type": "code",
   "execution_count": 186,
   "id": "9604f7ea-d5c6-4ba0-b4cb-65c485ffbc4f",
   "metadata": {},
   "outputs": [
    {
     "data": {
      "text/plain": [
       "<function matplotlib.pyplot.plot(*args, scalex=True, scaley=True, data=None, **kwargs)>"
      ]
     },
     "execution_count": 186,
     "metadata": {},
     "output_type": "execute_result"
    },
    {
     "data": {
      "image/png": "[encoded data removed]",
      "text/plain": [
       "<Figure size 864x576 with 1 Axes>"
      ]
     },
     "metadata": {
      "needs_background": "light"
     },
     "output_type": "display_data"
    }
   ],
   "source": [
    "plt.figure(figsize=(12, 8))\n",
    "plt.scatter(x_train, y_train, color='red')\n",
    "plt.plot(x_test,y_predict, color='blue')\n",
    "plt.xlabel(\"Weight (Kg)\")\n",
    "plt.ylabel(\"Height (cm)\")\n",
    "plt.title(\"Correlation between Height Weight Data\")\n",
    "plt.plot"
   ]
  },
  {
   "cell_type": "code",
   "execution_count": 195,
   "id": "95401c3a-5e80-456d-a625-4721922d830c",
   "metadata": {},
   "outputs": [
    {
     "data": {
      "text/plain": [
       "Text(0.5, 1.0, 'Correlation between Height Weight Data')"
      ]
     },
     "execution_count": 195,
     "metadata": {},
     "output_type": "execute_result"
    },
    {
     "data": {
      "image/png": "[encoded data removed]",
      "text/plain": [
       "<Figure size 864x576 with 1 Axes>"
      ]
     },
     "metadata": {
      "needs_background": "light"
     },
     "output_type": "display_data"
    }
   ],
   "source": [
    "# using seaborn librabiry\n",
    "\n",
    "fig = plt.subplots(figsize = (12,8))\n",
    "\n",
    "## Scatter plotting for SalePrice and GrLivArea. \n",
    "sns.scatterplot(x= \"Height(cm)\", y = \"Weight(kg)\" , data=data)\n",
    "\n",
    "## Putting a regression line. \n",
    "sns.regplot(x= \"Height(cm)\", y = \"Weight(kg)\" , data=data, color=\"red\",ci=None)\n",
    "\n",
    "plt.title(\"Correlation between Height Weight Data\")"
   ]
  },
  {
   "cell_type": "markdown",
   "id": "1d8cd52b-5cf0-471c-b2b3-178d4b610c49",
   "metadata": {},
   "source": [
    "#Conclusions\n",
    "\n",
    "1.Height and Weight are loosely positvely correlated\n",
    "\n",
    "2.There may be more varability of heights in the middle weights, but that could also just have to do with the fact that there are more data points in the middle weights\n",
    "\n",
    "3.There are many other factors that affect weight other than height."
   ]
  }
 ],
 "metadata": {
  "kernelspec": {
   "display_name": "Python 3 (ipykernel)",
   "language": "python",
   "name": "python3"
  },
  "language_info": {
   "codemirror_mode": {
    "name": "ipython",
    "version": 3
   },
   "file_extension": ".py",
   "mimetype": "text/x-python",
   "name": "python",
   "nbconvert_exporter": "python",
   "pygments_lexer": "ipython3",
   "version": "3.9.7"
  }
 },
 "nbformat": 4,
 "nbformat_minor": 5
}
